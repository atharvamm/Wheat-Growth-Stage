{
 "cells": [
  {
   "cell_type": "code",
   "execution_count": null,
   "metadata": {},
   "outputs": [],
   "source": [
    "import torch\n",
    "import torchvision\n",
    "import matplotlib.pyplot as plt\n"
   ]
  },
  {
   "cell_type": "code",
   "execution_count": null,
   "metadata": {},
   "outputs": [],
   "source": [
    "\n",
    "train_transforms = torchvision.transforms.Compose([\n",
    "        torchvision.transforms.Resize((224,224)),\n",
    "        torchvision.transforms.RandomPerspective(distortion_scale = 0.05,p=0.2),\n",
    "        torchvision.transforms.RandomRotation(degrees=5),\n",
    "        torchvision.transforms.RandomHorizontalFlip(p=0.2),\n",
    "        torchvision.transforms.ToTensor(),\n",
    "    ])"
   ]
  },
  {
   "cell_type": "code",
   "execution_count": null,
   "metadata": {},
   "outputs": [],
   "source": [
    "# Visualize a few images in the dataset\n",
    "# You can write your own code, and you don't need to understand the code\n",
    "# It is highly recommended that you visualize your data augmentation as sanity check\n",
    "\n",
    "r, c    = [4, 4]\n",
    "fig, ax = plt.subplots(r, c, figsize= (15, 15))\n",
    "\n",
    "k       = 0\n",
    "dtl     = torch.utils.data.DataLoader(\n",
    "    dataset     = torchvision.datasets.ImageFolder(\"Visualize\", transform= train_transforms,), # dont wanna see the images with transforms\n",
    "    batch_size  = 16, \n",
    "    shuffle     = True,\n",
    ")\n",
    "\n",
    "for data in dtl:\n",
    "    x, y = data\n",
    "    \n",
    "    for i in range(r):\n",
    "        for j in range(c):\n",
    "            img = x[k].numpy().transpose(1, 2, 0)\n",
    "            ax[i, j].imshow(img)\n",
    "            ax[i, j].axis('off')\n",
    "            k+=1\n",
    "    break\n",
    "\n",
    "del dtl"
   ]
  },
  {
   "cell_type": "code",
   "execution_count": null,
   "metadata": {},
   "outputs": [],
   "source": [
    "import pandas as pd\n",
    "path = \"files/Train.csv\"\n",
    "f = pd.read_csv(path)"
   ]
  },
  {
   "cell_type": "code",
   "execution_count": null,
   "metadata": {},
   "outputs": [],
   "source": [
    "temp = f[f[\"label_quality\"] == 2]\n",
    "temp[\"growth_stage\"].value_counts()"
   ]
  },
  {
   "cell_type": "code",
   "execution_count": null,
   "metadata": {},
   "outputs": [],
   "source": []
  }
 ],
 "metadata": {
  "kernelspec": {
   "display_name": "test_pytorch",
   "language": "python",
   "name": "python3"
  },
  "language_info": {
   "codemirror_mode": {
    "name": "ipython",
    "version": 3
   },
   "file_extension": ".py",
   "mimetype": "text/x-python",
   "name": "python",
   "nbconvert_exporter": "python",
   "pygments_lexer": "ipython3",
   "version": "3.9.12"
  },
  "orig_nbformat": 4,
  "vscode": {
   "interpreter": {
    "hash": "58fcc1f1f2ff5903d2474ad95d7727dfb58e3c0bd4a66c636398d9f0fc46f820"
   }
  }
 },
 "nbformat": 4,
 "nbformat_minor": 2
}
